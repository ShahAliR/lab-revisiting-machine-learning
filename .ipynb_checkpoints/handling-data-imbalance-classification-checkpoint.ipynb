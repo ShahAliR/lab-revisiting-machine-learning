{
 "cells": [
  {
   "cell_type": "markdown",
   "id": "4da79cfe",
   "metadata": {},
   "source": [
    "Lab | Handling Data Imbalance in Classification Models\n",
    "For this lab and in the next lessons we will use the dataset 'Healthcare For All' building a model to predict who will donate (TargetB) and how much they will give (TargetD). You will be using files_for_lab/learningSet.csv file which you have already downloaded from class.\n",
    "\n",
    "Scenario\n",
    "You are revisiting the Healthcare for All Case Study. You are provided with this historical data about Donors and how much they donated. Your task is to build a machine learning model that will help the company identify people who are more likely to donate and then try to predict the donation amount.\n",
    "\n",
    "Instructions\n",
    "In this lab, we will first take a look at the degree of imbalance in the data and correct it using the techniques we learned in the class.\n",
    "\n",
    "Here is the list of steps to be followed (building a simple model without balancing the data):\n",
    "\n",
    "Import the required libraries and modules that you would need.\n",
    "\n",
    "Read that data into Python and call the dataframe donors.\n",
    "\n",
    "Check the datatypes of all the columns in the data.\n",
    "\n",
    "Check for null values in the dataframe. Replace the null values using the methods learned in class.\n",
    "\n",
    "Split the data into numerical and catagorical. Decide if any columns need their dtype changed.\n",
    "\n",
    "Split the data into a training set and a test set.\n",
    "Scale the features either by using normalizer or a standard scaler.\n",
    "Encode the categorical features using One-Hot Encoding or Ordinal Encoding\n",
    "Fit a logistic regression model on the training data.\n",
    "Check the accuracy on the test data.\n",
    "Note: So far we have not balanced the data.\n",
    "\n",
    "Managing imbalance in the dataset\n",
    "\n",
    "Check for the imbalance.\n",
    "Use the resampling strategies used in class for upsampling and downsampling to create a balance between the two classes.\n",
    "Each time fit the model and see how the accuracy of the model has changed."
   ]
  },
  {
   "cell_type": "code",
   "execution_count": 1,
   "id": "e25479e0",
   "metadata": {},
   "outputs": [],
   "source": [
    "import pandas as pd\n",
    "import numpy as np\n",
    "import matplotlib.pyplot as plt\n",
    "import seaborn as sns \n",
    "pd.set_option('display.max_columns', None)"
   ]
  },
  {
   "cell_type": "code",
   "execution_count": 26,
   "id": "9007c77b",
   "metadata": {},
   "outputs": [],
   "source": [
    "numerical = pd.read_csv('numerical7_02.csv')\n",
    "categorical= pd.read_csv('categorical7_02.csv')\n",
    "y = pd.read_csv('target7_02.csv')"
   ]
  },
  {
   "cell_type": "code",
   "execution_count": 3,
   "id": "097c50a5",
   "metadata": {},
   "outputs": [
    {
     "data": {
      "text/plain": [
       "(95412, 322)"
      ]
     },
     "execution_count": 3,
     "metadata": {},
     "output_type": "execute_result"
    }
   ],
   "source": [
    "numerical.shape"
   ]
  },
  {
   "cell_type": "code",
   "execution_count": 4,
   "id": "f6f7751d",
   "metadata": {},
   "outputs": [
    {
     "data": {
      "text/plain": [
       "(95412, 12)"
      ]
     },
     "execution_count": 4,
     "metadata": {},
     "output_type": "execute_result"
    }
   ],
   "source": [
    "categorical.shape"
   ]
  },
  {
   "cell_type": "code",
   "execution_count": 5,
   "id": "f1061b21",
   "metadata": {},
   "outputs": [
    {
     "data": {
      "text/plain": [
       "(95412, 2)"
      ]
     },
     "execution_count": 5,
     "metadata": {},
     "output_type": "execute_result"
    }
   ],
   "source": [
    "y.shape"
   ]
  },
  {
   "cell_type": "code",
   "execution_count": 8,
   "id": "97682804",
   "metadata": {},
   "outputs": [
    {
     "data": {
      "text/html": [
       "<div>\n",
       "<style scoped>\n",
       "    .dataframe tbody tr th:only-of-type {\n",
       "        vertical-align: middle;\n",
       "    }\n",
       "\n",
       "    .dataframe tbody tr th {\n",
       "        vertical-align: top;\n",
       "    }\n",
       "\n",
       "    .dataframe thead th {\n",
       "        text-align: right;\n",
       "    }\n",
       "</style>\n",
       "<table border=\"1\" class=\"dataframe\">\n",
       "  <thead>\n",
       "    <tr style=\"text-align: right;\">\n",
       "      <th></th>\n",
       "      <th>STATE</th>\n",
       "      <th>CLUSTER</th>\n",
       "      <th>HOMEOWNR</th>\n",
       "      <th>GENDER</th>\n",
       "      <th>DATASRCE</th>\n",
       "      <th>SOLIH</th>\n",
       "      <th>VETERANS</th>\n",
       "      <th>RFA_2R</th>\n",
       "      <th>RFA_2A</th>\n",
       "      <th>GEOCODE2</th>\n",
       "      <th>DOMAIN_A</th>\n",
       "      <th>DOMAIN_B</th>\n",
       "    </tr>\n",
       "  </thead>\n",
       "  <tbody>\n",
       "    <tr>\n",
       "      <th>0</th>\n",
       "      <td>IL</td>\n",
       "      <td>36</td>\n",
       "      <td>U</td>\n",
       "      <td>F</td>\n",
       "      <td>3</td>\n",
       "      <td>NaN</td>\n",
       "      <td>NaN</td>\n",
       "      <td>L</td>\n",
       "      <td>E</td>\n",
       "      <td>C</td>\n",
       "      <td>T</td>\n",
       "      <td>2</td>\n",
       "    </tr>\n",
       "    <tr>\n",
       "      <th>1</th>\n",
       "      <td>CA</td>\n",
       "      <td>14</td>\n",
       "      <td>H</td>\n",
       "      <td>M</td>\n",
       "      <td>3</td>\n",
       "      <td>NaN</td>\n",
       "      <td>NaN</td>\n",
       "      <td>L</td>\n",
       "      <td>G</td>\n",
       "      <td>A</td>\n",
       "      <td>S</td>\n",
       "      <td>1</td>\n",
       "    </tr>\n",
       "    <tr>\n",
       "      <th>2</th>\n",
       "      <td>NC</td>\n",
       "      <td>43</td>\n",
       "      <td>U</td>\n",
       "      <td>M</td>\n",
       "      <td>3</td>\n",
       "      <td>NaN</td>\n",
       "      <td>NaN</td>\n",
       "      <td>L</td>\n",
       "      <td>E</td>\n",
       "      <td>C</td>\n",
       "      <td>R</td>\n",
       "      <td>2</td>\n",
       "    </tr>\n",
       "    <tr>\n",
       "      <th>3</th>\n",
       "      <td>CA</td>\n",
       "      <td>44</td>\n",
       "      <td>U</td>\n",
       "      <td>F</td>\n",
       "      <td>3</td>\n",
       "      <td>NaN</td>\n",
       "      <td>NaN</td>\n",
       "      <td>L</td>\n",
       "      <td>E</td>\n",
       "      <td>C</td>\n",
       "      <td>R</td>\n",
       "      <td>2</td>\n",
       "    </tr>\n",
       "    <tr>\n",
       "      <th>4</th>\n",
       "      <td>FL</td>\n",
       "      <td>16</td>\n",
       "      <td>H</td>\n",
       "      <td>F</td>\n",
       "      <td>3</td>\n",
       "      <td>12.0</td>\n",
       "      <td>NaN</td>\n",
       "      <td>L</td>\n",
       "      <td>F</td>\n",
       "      <td>A</td>\n",
       "      <td>S</td>\n",
       "      <td>2</td>\n",
       "    </tr>\n",
       "  </tbody>\n",
       "</table>\n",
       "</div>"
      ],
      "text/plain": [
       "  STATE  CLUSTER HOMEOWNR GENDER  DATASRCE  SOLIH VETERANS RFA_2R RFA_2A  \\\n",
       "0    IL       36        U      F         3    NaN      NaN      L      E   \n",
       "1    CA       14        H      M         3    NaN      NaN      L      G   \n",
       "2    NC       43        U      M         3    NaN      NaN      L      E   \n",
       "3    CA       44        U      F         3    NaN      NaN      L      E   \n",
       "4    FL       16        H      F         3   12.0      NaN      L      F   \n",
       "\n",
       "  GEOCODE2 DOMAIN_A  DOMAIN_B  \n",
       "0        C        T         2  \n",
       "1        A        S         1  \n",
       "2        C        R         2  \n",
       "3        C        R         2  \n",
       "4        A        S         2  "
      ]
     },
     "execution_count": 8,
     "metadata": {},
     "output_type": "execute_result"
    }
   ],
   "source": [
    "categorical.head()"
   ]
  },
  {
   "cell_type": "code",
   "execution_count": 27,
   "id": "d7987dd8",
   "metadata": {},
   "outputs": [
    {
     "data": {
      "text/plain": [
       "NEXTDATE    9973\n",
       "DMA          132\n",
       "ADI          132\n",
       "MSA          132\n",
       "ODATEDW        0\n",
       "            ... \n",
       "HHD12          0\n",
       "HHD11          0\n",
       "HHD10          0\n",
       "HHD9           0\n",
       "CLUSTER2       0\n",
       "Length: 322, dtype: int64"
      ]
     },
     "execution_count": 27,
     "metadata": {},
     "output_type": "execute_result"
    }
   ],
   "source": [
    "numerical.isnull().sum().sort_values(ascending=False)"
   ]
  },
  {
   "cell_type": "code",
   "execution_count": 28,
   "id": "2175643f",
   "metadata": {},
   "outputs": [
    {
     "data": {
      "text/plain": [
       "count    95280.000000\n",
       "mean       187.356402\n",
       "std        137.019184\n",
       "min          0.000000\n",
       "25%         65.000000\n",
       "50%        175.000000\n",
       "75%        279.000000\n",
       "max        651.000000\n",
       "Name: ADI, dtype: float64"
      ]
     },
     "execution_count": 28,
     "metadata": {},
     "output_type": "execute_result"
    }
   ],
   "source": [
    "numerical['ADI'].describe().T"
   ]
  },
  {
   "cell_type": "code",
   "execution_count": 29,
   "id": "1bb5633e",
   "metadata": {},
   "outputs": [],
   "source": [
    "numerical['ADI'] = numerical['ADI'].fillna(np.mean(numerical['ADI']))"
   ]
  },
  {
   "cell_type": "code",
   "execution_count": null,
   "id": "f0a6777c",
   "metadata": {},
   "outputs": [],
   "source": []
  },
  {
   "cell_type": "code",
   "execution_count": null,
   "id": "d799e08a",
   "metadata": {},
   "outputs": [],
   "source": [
    "numerical['DMA'] = numerical['DMA'].fillna(np.mean(numerical['DMA']))"
   ]
  },
  {
   "cell_type": "code",
   "execution_count": 30,
   "id": "4d2f1bfc",
   "metadata": {},
   "outputs": [
    {
     "data": {
      "text/plain": [
       "NEXTDATE    9973\n",
       "DMA          132\n",
       "MSA          132\n",
       "ODATEDW        0\n",
       "EIC6           0\n",
       "            ... \n",
       "HHD12          0\n",
       "HHD11          0\n",
       "HHD10          0\n",
       "HHD9           0\n",
       "CLUSTER2       0\n",
       "Length: 322, dtype: int64"
      ]
     },
     "execution_count": 30,
     "metadata": {},
     "output_type": "execute_result"
    }
   ],
   "source": [
    " numerical['ADI'] = numerical['ADI'].fillna(np.mean(numerical['ADI']))"
   ]
  }
 ],
 "metadata": {
  "kernelspec": {
   "display_name": "Python 3",
   "language": "python",
   "name": "python3"
  },
  "language_info": {
   "codemirror_mode": {
    "name": "ipython",
    "version": 3
   },
   "file_extension": ".py",
   "mimetype": "text/x-python",
   "name": "python",
   "nbconvert_exporter": "python",
   "pygments_lexer": "ipython3",
   "version": "3.9.12"
  },
  "toc": {
   "base_numbering": 1,
   "nav_menu": {},
   "number_sections": true,
   "sideBar": true,
   "skip_h1_title": false,
   "title_cell": "Table of Contents",
   "title_sidebar": "Contents",
   "toc_cell": false,
   "toc_position": {},
   "toc_section_display": true,
   "toc_window_display": false
  }
 },
 "nbformat": 4,
 "nbformat_minor": 5
}
